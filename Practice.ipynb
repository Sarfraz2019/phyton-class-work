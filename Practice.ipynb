{
 "cells": [
  {
   "cell_type": "code",
   "execution_count": 9,
   "metadata": {},
   "outputs": [
    {
     "name": "stdout",
     "output_type": "stream",
     "text": [
      "yep, it's cat.\n"
     ]
    }
   ],
   "source": [
    "#if else statement\n",
    "#print se pehle single space hona must hai\n",
    "\n",
    "species = \"cat\"\n",
    "if species == \"cat\":\n",
    " print(\"yep, it's cat.\")"
   ]
  },
  {
   "cell_type": "code",
   "execution_count": 19,
   "metadata": {},
   "outputs": [
    {
     "name": "stdout",
     "output_type": "stream",
     "text": [
      "yep, it's cat.\n"
     ]
    }
   ],
   "source": [
    "#if else statement\n",
    "if species == \"cat\":\n",
    " status = \"ok\"\n",
    " kingdom = \"animal\"\n",
    " print(\"yep, it's cat.\")"
   ]
  },
  {
   "cell_type": "code",
   "execution_count": 12,
   "metadata": {},
   "outputs": [
    {
     "name": "stdout",
     "output_type": "stream",
     "text": [
      "Everything makes sense.\n"
     ]
    }
   ],
   "source": [
    "#if else statement\n",
    "if 2 + 2 ==4:\n",
    "    print(\"Everything makes sense.\")"
   ]
  },
  {
   "cell_type": "code",
   "execution_count": 20,
   "metadata": {},
   "outputs": [
    {
     "name": "stdout",
     "output_type": "stream",
     "text": [
      "yep, it's cat.\n"
     ]
    }
   ],
   "source": [
    "#if else statement\n",
    "if species == \"cat\":\n",
    " print(\"yep, it's cat.\")"
   ]
  },
  {
   "cell_type": "code",
   "execution_count": 24,
   "metadata": {},
   "outputs": [
    {
     "ename": "NameError",
     "evalue": "name 'number_of_husbands' is not defined",
     "output_type": "error",
     "traceback": [
      "\u001b[1;31m---------------------------------------------------------------------------\u001b[0m",
      "\u001b[1;31mNameError\u001b[0m                                 Traceback (most recent call last)",
      "\u001b[1;32m<ipython-input-24-d0dcc3d44834>\u001b[0m in \u001b[0;36m<module>\u001b[1;34m\u001b[0m\n\u001b[1;32m----> 1\u001b[1;33m \u001b[1;32mif\u001b[0m \u001b[0mnumber_of_husbands\u001b[0m \u001b[1;33m==\u001b[0m\u001b[1;36m1\u001b[0m\u001b[1;33m:\u001b[0m\u001b[1;33m\u001b[0m\u001b[1;33m\u001b[0m\u001b[0m\n\u001b[0m\u001b[0;32m      2\u001b[0m  \u001b[0mprint\u001b[0m\u001b[1;33m(\u001b[0m\u001b[1;34m\"so far so good.\"\u001b[0m\u001b[1;33m)\u001b[0m\u001b[1;33m\u001b[0m\u001b[1;33m\u001b[0m\u001b[0m\n",
      "\u001b[1;31mNameError\u001b[0m: name 'number_of_husbands' is not defined"
     ]
    }
   ],
   "source": [
    "#if else statement\n",
    "if number_of_husbands ==1:\n",
    " print(\"so far so good.\")"
   ]
  },
  {
   "cell_type": "code",
   "execution_count": 25,
   "metadata": {},
   "outputs": [
    {
     "name": "stdout",
     "output_type": "stream",
     "text": [
      "so far so good.\n"
     ]
    }
   ],
   "source": [
    "#if else statement\n",
    "number_of_husbands =1\n",
    "if number_of_husbands ==1:\n",
    " print(\"so far so good.\")"
   ]
  },
  {
   "cell_type": "code",
   "execution_count": 28,
   "metadata": {},
   "outputs": [
    {
     "name": "stdout",
     "output_type": "stream",
     "text": [
      "so far so good.\n",
      "Congratulation.\n",
      "All done.\n"
     ]
    }
   ],
   "source": [
    "#if else statement\n",
    "if number_of_husbands ==1:\n",
    " print(\"so far so good.\")\n",
    " print(\"Congratulation.\")\n",
    " print(\"All done.\")"
   ]
  },
  {
   "cell_type": "code",
   "execution_count": 33,
   "metadata": {},
   "outputs": [
    {
     "name": "stdout",
     "output_type": "stream",
     "text": [
      "It's cat\n"
     ]
    }
   ],
   "source": [
    "#if else statement\n",
    "if species ==\"cat\":\n",
    " print(\"It's cat\")\n",
    "else:\n",
    "    print(\"It's not cat\")\n"
   ]
  },
  {
   "cell_type": "code",
   "execution_count": 37,
   "metadata": {},
   "outputs": [
    {
     "name": "stdout",
     "output_type": "stream",
     "text": [
      "5\n"
     ]
    }
   ],
   "source": [
    "#else and elif statement\n",
    "donut_condition =\"low\"\n",
    "if donut_condition ==\"fresh\":\n",
    "    buy_score =10\n",
    "    print(buy_score)\n",
    "elif donut_condition ==\"low\":\n",
    "    buy_score =5\n",
    "    print(buy_score)\n",
    "else:\n",
    "    buy_score =0\n",
    "    print(buy_score)\n",
    "        "
   ]
  },
  {
   "cell_type": "code",
   "execution_count": 43,
   "metadata": {},
   "outputs": [
    {
     "name": "stdout",
     "output_type": "stream",
     "text": [
      "7\n"
     ]
    }
   ],
   "source": [
    "#else and elif statement\n",
    "donut_condition =\"low\"\n",
    "buy_score =5\n",
    "if donut_condition ==\"fresh\":\n",
    "    buy_score +=5\n",
    "    print(buy_score)\n",
    "elif donut_condition ==\"low\":\n",
    "    buy_score +=2\n",
    "    print(buy_score)\n",
    "else:\n",
    "    buy_score =0\n",
    "    print(buy_score)"
   ]
  },
  {
   "cell_type": "code",
   "execution_count": 48,
   "metadata": {},
   "outputs": [
    {
     "name": "stdout",
     "output_type": "stream",
     "text": [
      "22\n"
     ]
    }
   ],
   "source": [
    "#else and elif statement\n",
    "buy_score = 0\n",
    "donut_filling =\"chocolate\"\n",
    "donut_condition =\"fresh\"\n",
    "donut_price =\"reasonable\"\n",
    "if donut_condition ==\"fresh\":\n",
    "    buy_score +=10\n",
    "    \n",
    "if donut_filling ==\"chocolate\":\n",
    "    buy_score +=5\n",
    "    \n",
    "if donut_price ==\"reasonable\":\n",
    "    buy_score +=7\n",
    "    print(buy_score)"
   ]
  },
  {
   "cell_type": "code",
   "execution_count": 58,
   "metadata": {},
   "outputs": [
    {
     "name": "stdout",
     "output_type": "stream",
     "text": [
      "try to recruit him\n"
     ]
    }
   ],
   "source": [
    "#Testing set of condition\n",
    "weight = 301\n",
    "time = 5\n",
    "age = 22\n",
    "height = 70\n",
    "if weight >300 and time < 6 and age > 17 and height <72 :\n",
    " status = \"try to recruit him\"\n",
    "print(status)"
   ]
  },
  {
   "cell_type": "code",
   "execution_count": 59,
   "metadata": {},
   "outputs": [
    {
     "name": "stdout",
     "output_type": "stream",
     "text": [
      "welcome to leeds college!\n"
     ]
    }
   ],
   "source": [
    "#Testing set of condition\n",
    "parent = \"alum\"\n",
    "sat = 0\n",
    "avg = 0\n",
    "gpa = 0\n",
    "if sat > avg or gpa > 2.5 or parent ==\"alum\":\n",
    "    message = \"welcome to leeds college!\"\n",
    "    print(message)"
   ]
  },
  {
   "cell_type": "code",
   "execution_count": 61,
   "metadata": {},
   "outputs": [
    {
     "name": "stdout",
     "output_type": "stream",
     "text": [
      "try to recruit him\n"
     ]
    }
   ],
   "source": [
    "#Testing set of condition\n",
    "weight = 200\n",
    "time = 50\n",
    "height = 70\n",
    "if (weight >300 and time < 6) or height <72 :\n",
    " status = \"try to recruit him\"\n",
    "print(status)"
   ]
  },
  {
   "cell_type": "code",
   "execution_count": 63,
   "metadata": {},
   "outputs": [
    {
     "name": "stdout",
     "output_type": "stream",
     "text": [
      "try to recruit him\n"
     ]
    }
   ],
   "source": [
    "#Testing set of condition\n",
    "weight = 400\n",
    "time = 6\n",
    "height = 700\n",
    "if   height <72 or (weight >300 and time == 6) :\n",
    " status = \"try to recruit him\"\n",
    "print(status)"
   ]
  },
  {
   "cell_type": "code",
   "execution_count": 69,
   "metadata": {},
   "outputs": [
    {
     "name": "stdout",
     "output_type": "stream",
     "text": [
      "8\n"
     ]
    }
   ],
   "source": [
    "#if statements nested first method\n",
    "x=1\n",
    "y=1\n",
    "a=0\n",
    "b=0\n",
    "c=2\n",
    "d=3\n",
    "g=5\n",
    "e=6\n",
    "h=7\n",
    "f=8\n",
    "if (x==y or a==b) and c ==d:\n",
    "    g=h\n",
    "    print(h)\n",
    "else:\n",
    "    e=f\n",
    "    print(f)"
   ]
  },
  {
   "cell_type": "code",
   "execution_count": 71,
   "metadata": {},
   "outputs": [
    {
     "name": "stdout",
     "output_type": "stream",
     "text": [
      "7\n"
     ]
    }
   ],
   "source": [
    "#if statements nested 2nd method\n",
    "x=1\n",
    "y=1\n",
    "a=0\n",
    "b=0\n",
    "c=2\n",
    "d=2\n",
    "g=5\n",
    "e=6\n",
    "h=7\n",
    "f=8\n",
    "if c==d:\n",
    "    if x==y:\n",
    "        g=h\n",
    "        print(h)\n",
    "    elif a==b:\n",
    "        g=h\n",
    "        print(h)\n",
    "    else:\n",
    "        e=f\n",
    "        print(f)\n",
    "else:\n",
    "    e=f\n",
    "    print(f)"
   ]
  },
  {
   "cell_type": "code",
   "execution_count": null,
   "metadata": {},
   "outputs": [],
   "source": []
  }
 ],
 "metadata": {
  "kernelspec": {
   "display_name": "Python 3",
   "language": "python",
   "name": "python3"
  },
  "language_info": {
   "codemirror_mode": {
    "name": "ipython",
    "version": 3
   },
   "file_extension": ".py",
   "mimetype": "text/x-python",
   "name": "python",
   "nbconvert_exporter": "python",
   "pygments_lexer": "ipython3",
   "version": "3.7.4"
  }
 },
 "nbformat": 4,
 "nbformat_minor": 2
}
