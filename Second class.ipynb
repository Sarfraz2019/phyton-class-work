{
 "cells": [
  {
   "cell_type": "code",
   "execution_count": 2,
   "metadata": {},
   "outputs": [
    {
     "name": "stdout",
     "output_type": "stream",
     "text": [
      "Please Enter age19\n",
      "Allowed to ride as\n"
     ]
    }
   ],
   "source": [
    "age = int(input(\"Please Enter age\"))\n",
    "if age >= 18 :\n",
    " print(\"Allowed to ride as\")\n",
    "else :\n",
    " print(\"Not allowed\")"
   ]
  },
  {
   "cell_type": "code",
   "execution_count": 15,
   "metadata": {},
   "outputs": [
    {
     "name": "stdout",
     "output_type": "stream",
     "text": [
      "Plase Enter your percentage % for getting grades :    35\n",
      "E\n"
     ]
    }
   ],
   "source": [
    "per = int(input(\"Plase Enter your percentage % for getting grades :    \"));\n",
    "if per <= 100 and per >= 80 :\n",
    "    print(\"A+\")\n",
    "elif per < 80 and per >=70 :\n",
    "    print(\"A\")\n",
    "elif per < 70 and per >=60 :\n",
    "    print(\"B\")\n",
    "elif per < 60 and per >=50 :\n",
    "    print(\"C\")\n",
    "elif per < 50 and per >=40 :\n",
    "    print(\"D\")\n",
    "elif per < 40 and per >=33 :\n",
    "    print(\"E\")\n",
    "elif per < 33 and per >=0 :\n",
    "    print(\"F\")\n",
    "else :\n",
    "    print(\"You have given inapproperiate %\")"
   ]
  },
  {
   "cell_type": "code",
   "execution_count": 20,
   "metadata": {},
   "outputs": [
    {
     "name": "stdout",
     "output_type": "stream",
     "text": [
      "['Sarfraz', 'Aslam', 'Amaan', 25, False, 0, 9]\n"
     ]
    }
   ],
   "source": [
    "#array or list\n",
    "arr = [\"Sarfraz\",\"Aslam\", \"Amaan\" ,25 ,False,0,9]\n",
    "print(arr)"
   ]
  },
  {
   "cell_type": "code",
   "execution_count": 21,
   "metadata": {},
   "outputs": [
    {
     "name": "stdout",
     "output_type": "stream",
     "text": [
      "Sarfraz\n"
     ]
    }
   ],
   "source": [
    "arr = [\"Sarfraz\",\"Aslam\", \"Amaan\" ,25 ,False,0,9]\n",
    "print(arr[0])"
   ]
  },
  {
   "cell_type": "code",
   "execution_count": 24,
   "metadata": {},
   "outputs": [
    {
     "name": "stdout",
     "output_type": "stream",
     "text": [
      "25\n"
     ]
    }
   ],
   "source": [
    "\n",
    "print(arr[3])"
   ]
  },
  {
   "cell_type": "code",
   "execution_count": 25,
   "metadata": {},
   "outputs": [
    {
     "name": "stdout",
     "output_type": "stream",
     "text": [
      "False\n"
     ]
    }
   ],
   "source": [
    "\n",
    "print(arr[4])"
   ]
  },
  {
   "cell_type": "code",
   "execution_count": 28,
   "metadata": {},
   "outputs": [
    {
     "data": {
      "text/plain": [
       "['Sarfraz', 'Aslam', 'Amaan', 25, False, 0, 9, 'Umer', 'Umer', 'Umer']"
      ]
     },
     "execution_count": 28,
     "metadata": {},
     "output_type": "execute_result"
    }
   ],
   "source": [
    "#adding the values in array or list\n",
    "arr.append(\"Umer\")\n",
    "arr"
   ]
  },
  {
   "cell_type": "code",
   "execution_count": 30,
   "metadata": {},
   "outputs": [
    {
     "name": "stdout",
     "output_type": "stream",
     "text": [
      "['Sarfraz', 'Aslam', 'Amaan', 25, False, 0, 9, 'Umer', 'Umer', 'Umer', 'Sarwar', 'Zeeshan']\n"
     ]
    }
   ],
   "source": [
    "arr1 = arr + [\"Sarwar\",\"Zeeshan\"]\n",
    "print(arr1)"
   ]
  },
  {
   "cell_type": "code",
   "execution_count": 31,
   "metadata": {},
   "outputs": [
    {
     "data": {
      "text/plain": [
       "['Sarfraz',\n",
       " 'Aslam',\n",
       " 'Amaan',\n",
       " 25,\n",
       " False,\n",
       " 0,\n",
       " 9,\n",
       " 'Umer',\n",
       " 'Umer',\n",
       " 'Umer',\n",
       " 'Sarwar',\n",
       " 'Zeeshan']"
      ]
     },
     "execution_count": 31,
     "metadata": {},
     "output_type": "execute_result"
    }
   ],
   "source": [
    "arr1"
   ]
  },
  {
   "cell_type": "code",
   "execution_count": 32,
   "metadata": {},
   "outputs": [
    {
     "data": {
      "text/plain": [
       "['Sarfraz', 'Aslam', 'Amaan', 25, False, 0, 9, 'Umer', 'Umer', 'Umer']"
      ]
     },
     "execution_count": 32,
     "metadata": {},
     "output_type": "execute_result"
    }
   ],
   "source": [
    "arr"
   ]
  },
  {
   "cell_type": "code",
   "execution_count": 35,
   "metadata": {},
   "outputs": [
    {
     "name": "stdout",
     "output_type": "stream",
     "text": [
      "['Sarfraz', 'Aslam', 'Raza', 'Raza', 'Ahmed', 'Amaan', 25, False, 0, 9, 'Umer', 'Umer', 'Umer']\n"
     ]
    }
   ],
   "source": [
    "arr.insert(4,\"Ahmed\")\n",
    "print(arr)"
   ]
  },
  {
   "cell_type": "code",
   "execution_count": 36,
   "metadata": {},
   "outputs": [
    {
     "data": {
      "text/plain": [
       "['Sarfraz',\n",
       " 'Aslam',\n",
       " 'Amaan',\n",
       " 25,\n",
       " False,\n",
       " 0,\n",
       " 9,\n",
       " 'Umer',\n",
       " 'Umer',\n",
       " 'Umer',\n",
       " 'Sarwar',\n",
       " 'Zeeshan']"
      ]
     },
     "execution_count": 36,
     "metadata": {},
     "output_type": "execute_result"
    }
   ],
   "source": [
    "arr1"
   ]
  },
  {
   "cell_type": "code",
   "execution_count": 37,
   "metadata": {},
   "outputs": [
    {
     "name": "stdout",
     "output_type": "stream",
     "text": [
      "['Sarfraz', 'Aslam', 'Amaan', 25, False, 0, 9, 'Ahmed', 'Shujaat', 'Umer', 'Sarwar', 'Zeeshan']\n"
     ]
    }
   ],
   "source": [
    "arr1[7] = \"Ahmed\"\n",
    "arr1[8] = \"Shujaat\"\n",
    "print(arr1)"
   ]
  },
  {
   "cell_type": "code",
   "execution_count": 38,
   "metadata": {},
   "outputs": [
    {
     "data": {
      "text/plain": [
       "['Sarfraz',\n",
       " 'Aslam',\n",
       " 'Raza',\n",
       " 'Raza',\n",
       " 'Ahmed',\n",
       " 'Amaan',\n",
       " 25,\n",
       " False,\n",
       " 0,\n",
       " 9,\n",
       " 'Umer',\n",
       " 'Umer',\n",
       " 'Umer']"
      ]
     },
     "execution_count": 38,
     "metadata": {},
     "output_type": "execute_result"
    }
   ],
   "source": [
    "arr"
   ]
  },
  {
   "cell_type": "code",
   "execution_count": 39,
   "metadata": {},
   "outputs": [
    {
     "name": "stdout",
     "output_type": "stream",
     "text": [
      "['Sarfraz', 'Aslam', 'Ilyas', 'Raza', 'Ahmed', 'Amaan', 25, False, 0, 9, 'siddique', 'Umer', 'Farooq']\n"
     ]
    }
   ],
   "source": [
    "arr[2] =\"Ilyas\"\n",
    "arr[10] =\"siddique\"\n",
    "arr[12] =\"Farooq\"\n",
    "print(arr)"
   ]
  },
  {
   "cell_type": "code",
   "execution_count": 40,
   "metadata": {},
   "outputs": [
    {
     "name": "stdout",
     "output_type": "stream",
     "text": [
      "['Amaan', 25, False, 0, 9]\n"
     ]
    }
   ],
   "source": [
    "#Now going for slice\n",
    "arr2 = arr1[2 : 7]\n",
    "print(arr2)"
   ]
  },
  {
   "cell_type": "code",
   "execution_count": 45,
   "metadata": {},
   "outputs": [
    {
     "name": "stdout",
     "output_type": "stream",
     "text": [
      "Arr1 :['Sarfraz', 'Aslam', 'Amaan', 25, False, 0, 9, 'Ahmed', 'Shujaat', 'Umer', 'Sarwar', 'Zeeshan']\n",
      "Arr2 :['Amaan', 25, False, 0, 9]\n"
     ]
    }
   ],
   "source": [
    "print(\"Arr1 :\" + str(arr1))\n",
    "print(\"Arr2 :\" + str(arr2))"
   ]
  },
  {
   "cell_type": "code",
   "execution_count": 50,
   "metadata": {},
   "outputs": [
    {
     "name": "stdout",
     "output_type": "stream",
     "text": [
      "Arr:\n",
      "['Sarfraz', 'Aslam', 'Ilyas', 'Raza', 'Ahmed', 'Amaan', 25, False, 0, 9, 'siddique', 'Umer', 'Farooq']\n",
      "Arr3:\n",
      "['Sarfraz', 'Aslam', 'Ilyas', 'Raza', 'Ahmed']\n"
     ]
    }
   ],
   "source": [
    "#slice\n",
    "arr3 =arr[:5]\n",
    "print(\"Arr:\\n\" + str(arr))\n",
    "print(\"Arr3:\\n\" + str(arr3))"
   ]
  },
  {
   "cell_type": "code",
   "execution_count": 51,
   "metadata": {},
   "outputs": [
    {
     "name": "stdout",
     "output_type": "stream",
     "text": [
      "['Sarfraz', 'Aslam', 'Raza', 'Ahmed']\n"
     ]
    }
   ],
   "source": [
    "del arr3[2]\n",
    "print(arr3)"
   ]
  },
  {
   "cell_type": "code",
   "execution_count": 52,
   "metadata": {},
   "outputs": [
    {
     "name": "stdout",
     "output_type": "stream",
     "text": [
      "['Sarfraz', 'Raza', 'Ahmed']\n"
     ]
    }
   ],
   "source": [
    "arr3.remove(\"Aslam\")\n",
    "print(arr3)"
   ]
  },
  {
   "cell_type": "code",
   "execution_count": 53,
   "metadata": {},
   "outputs": [
    {
     "name": "stdout",
     "output_type": "stream",
     "text": [
      "Farooq\n"
     ]
    }
   ],
   "source": [
    "#poping element\n",
    "#sbse end k element utha kr le ata hai\n",
    "arr4 = arr.pop()\n",
    "print(arr4)"
   ]
  },
  {
   "cell_type": "code",
   "execution_count": 3,
   "metadata": {},
   "outputs": [
    {
     "ename": "NameError",
     "evalue": "name 'arr4' is not defined",
     "output_type": "error",
     "traceback": [
      "\u001b[1;31m---------------------------------------------------------------------------\u001b[0m",
      "\u001b[1;31mNameError\u001b[0m                                 Traceback (most recent call last)",
      "\u001b[1;32m<ipython-input-3-c5693a75626a>\u001b[0m in \u001b[0;36m<module>\u001b[1;34m\u001b[0m\n\u001b[1;32m----> 1\u001b[1;33m \u001b[0marr4\u001b[0m\u001b[1;33m\u001b[0m\u001b[1;33m\u001b[0m\u001b[0m\n\u001b[0m",
      "\u001b[1;31mNameError\u001b[0m: name 'arr4' is not defined"
     ]
    }
   ],
   "source": [
    "arr4"
   ]
  },
  {
   "cell_type": "code",
   "execution_count": 7,
   "metadata": {},
   "outputs": [
    {
     "name": "stdout",
     "output_type": "stream",
     "text": [
      "['sarfraz', 'Aslam']\n"
     ]
    }
   ],
   "source": [
    "listr = ['sarfraz','Aslam']\n",
    "print(listr)"
   ]
  },
  {
   "cell_type": "code",
   "execution_count": 8,
   "metadata": {},
   "outputs": [
    {
     "name": "stdout",
     "output_type": "stream",
     "text": [
      "['sarfraz', 'Amaan']\n"
     ]
    }
   ],
   "source": [
    "listr[1] = \"Amaan\"\n",
    "print(listr)"
   ]
  },
  {
   "cell_type": "code",
   "execution_count": null,
   "metadata": {},
   "outputs": [],
   "source": []
  }
 ],
 "metadata": {
  "kernelspec": {
   "display_name": "Python 3",
   "language": "python",
   "name": "python3"
  },
  "language_info": {
   "codemirror_mode": {
    "name": "ipython",
    "version": 3
   },
   "file_extension": ".py",
   "mimetype": "text/x-python",
   "name": "python",
   "nbconvert_exporter": "python",
   "pygments_lexer": "ipython3",
   "version": "3.7.4"
  }
 },
 "nbformat": 4,
 "nbformat_minor": 2
}
