{
 "cells": [
  {
   "cell_type": "code",
   "execution_count": 24,
   "metadata": {},
   "outputs": [
    {
     "name": "stdout",
     "output_type": "stream",
     "text": [
      "Fuel Car...\n",
      "Suzuki\n",
      "ked 1254\n",
      "Black\n",
      "13km's per liter\n",
      "yes\n",
      "\t\t\t===============\n",
      "Electric Car...\n",
      "The car name is Suzuki. Model of Car ked 1255 and car color is brown\n",
      "No\n",
      "30km's per liter\n",
      "\t\t\t===============\n",
      "Corolla\n"
     ]
    }
   ],
   "source": [
    "#Inheritance\n",
    "#parent class\n",
    "class car():\n",
    "    def __init__(self,name,model,color):\n",
    "        self.name = name\n",
    "        self.model = model\n",
    "        self.color = color\n",
    "        \n",
    "    def avg(self,km):\n",
    "        print(\"{}km's per liter\".format(km))\n",
    "        \n",
    "    def tank(self):\n",
    "        print(\"yes\")\n",
    "       \n",
    "    def cartype(self):\n",
    "        print(\"Fuel Car...\")\n",
    "\n",
    "        \n",
    "        #Inheritance or child class       \n",
    "class electric_car(car):\n",
    "    def __init__(self,name,model,color):\n",
    "        super().__init__(name,model,color)\n",
    "        \n",
    "    def Ecartype(self):\n",
    "        print(\"Electric Car...\")\n",
    "    #Over-riding in polymorphism\n",
    "    def tank(self):\n",
    "        print(\"No\")\n",
    "    def get_description(self):\n",
    "        print(\"The car name is {}. Model of Car {} and car color is {}\".format(self.name,self.model,self.color))\n",
    "    \n",
    "        \n",
    "car1 = car('Suzuki','ked 1254','Black')\n",
    "car1.cartype()\n",
    "print(car1.name)\n",
    "print(car1.model)\n",
    "print(car1.color)\n",
    "car1.avg(13)\n",
    "car1.tank()\n",
    "print(\"\\t\\t\\t===============\")\n",
    "new_car = electric_car('Suzuki','ked 1255','brown')\n",
    "new_car.Ecartype()\n",
    "new_car.get_description()\n",
    "new_car.tank()\n",
    "new_car.avg(30)\n",
    "print(\"\\t\\t\\t===============\")\n",
    "car1.name = \"Corolla\"\n",
    "print(car1.name)"
   ]
  },
  {
   "cell_type": "code",
   "execution_count": 30,
   "metadata": {},
   "outputs": [
    {
     "name": "stdout",
     "output_type": "stream",
     "text": [
      "30 km's per liter\n",
      "\t\t\t===============\n",
      "30 km's per liter\n",
      "45 km's per liter\n"
     ]
    }
   ],
   "source": [
    "#Encapsulation\n",
    "#Attribute protected,public or private\n",
    "#public values ko sb use kr skte han class k bhr bhi..\n",
    "#protected values ko child class m use kiya jaskta hai...\n",
    "#private value ko sirf usi class k andr use or override kr skte han..\n",
    "\n",
    "class Newcar():\n",
    "    def __init__(self):\n",
    "        self.__maxAvg = 30\n",
    "        \n",
    "    def avg(self):\n",
    "        print(\"{} km's per liter\".format(self.__maxAvg))\n",
    "        \n",
    "    def updateAvg(self,updated_value):\n",
    "        self.__maxAvg = updated_value\n",
    "        \n",
    "    \n",
    "        \n",
    "obj = Newcar()\n",
    "obj.avg()\n",
    "print(\"\\t\\t\\t===============\")\n",
    "\n",
    "\n",
    "obj.__maxAvg = 60\n",
    "obj.avg()\n",
    "\n",
    "obj.updateAvg(45)\n",
    "obj.avg()"
   ]
  },
  {
   "cell_type": "code",
   "execution_count": 34,
   "metadata": {},
   "outputs": [
    {
     "name": "stdout",
     "output_type": "stream",
     "text": [
      "The capital of pakistan is Islamabad.population is pakistan 20 crore\n",
      "The capital of USA is Washington DC and population of USA 40 crore\n"
     ]
    }
   ],
   "source": [
    "#Polymorphism\n",
    "#same function but different result because of argument as object \n",
    "#overloading and over-riding\n",
    "#overriding is given above  in Inheritance \n",
    "\n",
    "class pakistan():\n",
    "    def detail(self):\n",
    "        print(\"The capital of pakistan is Islamabad.population is pakistan 20 crore\")\n",
    "        \n",
    "        \n",
    "class USA():\n",
    "    def detail(self):\n",
    "        print(\"The capital of USA is Washington DC and population of USA 40 crore\")\n",
    "        \n",
    "        \n",
    "def description(country):\n",
    "    country.detail()\n",
    "    \n",
    "pak = pakistan()\n",
    "usa = USA()\n",
    "\n",
    "description(pak)\n",
    "description(usa)\n"
   ]
  },
  {
   "cell_type": "code",
   "execution_count": 38,
   "metadata": {},
   "outputs": [
    {
     "name": "stdout",
     "output_type": "stream",
     "text": [
      "11\n"
     ]
    }
   ],
   "source": [
    "#overloading\n",
    "\n",
    "class overloadding_demo():\n",
    "    def sum(self,a,b):\n",
    "        print(a+b)\n",
    "    #parameter ziada hna chahyea same name wle method se\n",
    "    def sum(self,a,b,c):\n",
    "        print(a+b+c)\n",
    "        \n",
    "over =overloadding_demo()\n",
    "#over.sum(5,4) error cause of same name\n",
    "over.sum(2,4,5)"
   ]
  },
  {
   "cell_type": "code",
   "execution_count": 39,
   "metadata": {},
   "outputs": [
    {
     "name": "stdout",
     "output_type": "stream",
     "text": [
      "9\n",
      "11\n"
     ]
    }
   ],
   "source": [
    "#overloading\n",
    "\n",
    "class overloadding_demo():\n",
    "    def sum(self,a=None,b=None,c=None):\n",
    "        if a!= None and b!= None and c!=None:\n",
    "            print(a+b+c)\n",
    "            \n",
    "        elif a!= None and b!= None:\n",
    "            print(a+b)\n",
    "   \n",
    "        \n",
    "over =overloadding_demo()\n",
    "over.sum(5,4)\n",
    "over.sum(2,4,5)"
   ]
  },
  {
   "cell_type": "code",
   "execution_count": 41,
   "metadata": {},
   "outputs": [
    {
     "name": "stdout",
     "output_type": "stream",
     "text": [
      "8\n",
      "5\n"
     ]
    }
   ],
   "source": [
    "# other polymorphism example with building func\n",
    "# same func of len but cause of diff argu behaviour will be change\n",
    "print(len('mohammad'))\n",
    "print(len([1,2,3,4,5]))\n"
   ]
  },
  {
   "cell_type": "code",
   "execution_count": 62,
   "metadata": {},
   "outputs": [
    {
     "name": "stdout",
     "output_type": "stream",
     "text": [
      "He Gives 4tola\n",
      "valima going on\n"
     ]
    }
   ],
   "source": [
    "#Abstraction\n",
    "#kisi bhi chiz k bre m uski functionality ka pta na hw ...\n",
    "'''Abstract base class (ABC)'''\n",
    "#child class pr hr us method ko call krna lzm hai jo parent k pass abstractmethod hai\n",
    "\n",
    "from abc import ABC,abstractmethod\n",
    "\n",
    "class Nikkah(ABC):\n",
    "    \n",
    "    @abstractmethod       \n",
    "    def haqmeher(self): #its abstract-method\n",
    "        pass\n",
    "class Human1(Nikkah):\n",
    "    def haqmeher(self,tola):\n",
    "        print(\"He Gives \" +str(tola) + \"tola\")\n",
    "        \n",
    "    def valima(self):\n",
    "        print(\"valima going on\")\n",
    "        \n",
    "\n",
    "\n",
    "\n",
    "        \n",
    "    \n",
    "        \n",
    "obj6 = Human1()\n",
    "\n",
    "obj6.haqmeher(4)\n",
    "obj6.valima()\n",
    "    \n"
   ]
  },
  {
   "cell_type": "code",
   "execution_count": null,
   "metadata": {},
   "outputs": [],
   "source": []
  }
 ],
 "metadata": {
  "kernelspec": {
   "display_name": "Python 3",
   "language": "python",
   "name": "python3"
  },
  "language_info": {
   "codemirror_mode": {
    "name": "ipython",
    "version": 3
   },
   "file_extension": ".py",
   "mimetype": "text/x-python",
   "name": "python",
   "nbconvert_exporter": "python",
   "pygments_lexer": "ipython3",
   "version": "3.7.4"
  }
 },
 "nbformat": 4,
 "nbformat_minor": 2
}
