{
 "cells": [
  {
   "cell_type": "code",
   "execution_count": 1,
   "metadata": {},
   "outputs": [
    {
     "name": "stdout",
     "output_type": "stream",
     "text": [
      "('ali', 'umer', 'ghous')\n"
     ]
    }
   ],
   "source": [
    "#touple\n",
    "\n",
    "tp = ('ali','umer','ghous')\n",
    "print(tp)"
   ]
  },
  {
   "cell_type": "code",
   "execution_count": 2,
   "metadata": {},
   "outputs": [
    {
     "ename": "TypeError",
     "evalue": "'tuple' object does not support item assignment",
     "output_type": "error",
     "traceback": [
      "\u001b[1;31m---------------------------------------------------------------------------\u001b[0m",
      "\u001b[1;31mTypeError\u001b[0m                                 Traceback (most recent call last)",
      "\u001b[1;32m<ipython-input-2-776b7f17e7ff>\u001b[0m in \u001b[0;36m<module>\u001b[1;34m\u001b[0m\n\u001b[0;32m      1\u001b[0m \u001b[1;31m#not to be change\u001b[0m\u001b[1;33m\u001b[0m\u001b[1;33m\u001b[0m\u001b[1;33m\u001b[0m\u001b[0m\n\u001b[1;32m----> 2\u001b[1;33m \u001b[0mtp\u001b[0m\u001b[1;33m[\u001b[0m\u001b[1;36m1\u001b[0m\u001b[1;33m]\u001b[0m \u001b[1;33m=\u001b[0m\u001b[1;34m'umair'\u001b[0m\u001b[1;33m\u001b[0m\u001b[1;33m\u001b[0m\u001b[0m\n\u001b[0m",
      "\u001b[1;31mTypeError\u001b[0m: 'tuple' object does not support item assignment"
     ]
    }
   ],
   "source": [
    "#not to be change\n",
    "tp[1] ='umair'"
   ]
  },
  {
   "cell_type": "code",
   "execution_count": 3,
   "metadata": {},
   "outputs": [
    {
     "name": "stdout",
     "output_type": "stream",
     "text": [
      "('ali', 'umer', 'ghous')\n"
     ]
    }
   ],
   "source": [
    "#list is editable and changable\n",
    "#touple is not editable and not changable\n",
    "\n",
    "print(tp)"
   ]
  },
  {
   "cell_type": "code",
   "execution_count": 4,
   "metadata": {},
   "outputs": [
    {
     "name": "stdout",
     "output_type": "stream",
     "text": [
      "umer\n"
     ]
    }
   ],
   "source": [
    "print(tp[1])"
   ]
  },
  {
   "cell_type": "code",
   "execution_count": 12,
   "metadata": {},
   "outputs": [
    {
     "name": "stdout",
     "output_type": "stream",
     "text": [
      "Enter first value: 4\n",
      "Enter operator = *\n",
      "Enter second value: 5\n",
      "20 answer\n"
     ]
    }
   ],
   "source": [
    "#calculator\n",
    "val1 = input('Enter first value: ')\n",
    "operator = input('Enter operator = ')\n",
    "val2 = input('Enter second value: ')\n",
    "'''val1 == int(val1)\n",
    "   val2 == int(val2)\n",
    "   is trha se bhi int mai convert ke skte han\n",
    "   '''\n",
    "if operator == '+' :\n",
    "    val = int(val1) + int(val2)\n",
    "    print(val,'answer')\n",
    "elif operator == '-' :\n",
    "    val = int(val1) - int(val2)\n",
    "    print(val,'answer')\n",
    "elif operator == '*' :\n",
    "    val = int(val1) * int(val2)\n",
    "    print(val,'answer')\n",
    "elif operator == '/' :\n",
    "    val = int(val1) // int(val2)\n",
    "    print(val,'answer')\n",
    "else :\n",
    "    print('Enter Correct Operator!')"
   ]
  },
  {
   "cell_type": "code",
   "execution_count": 30,
   "metadata": {},
   "outputs": [
    {
     "name": "stdout",
     "output_type": "stream",
     "text": [
      "Enter City Name :Cheyenne\n",
      "This is a cleanest City\n"
     ]
    }
   ],
   "source": [
    "#loop\n",
    "#phyton mai hmesha loop list k upper lgta hai\n",
    "#cleanest_cities se sare values a_clean_city mai shift hra hai...\n",
    "\n",
    "cleanest_cities = [\"Cheyenne\", \"Santa Fe\", \"Tucson\", \"Great Falls\", \"Honolulu\"]\n",
    "val = input('Enter City Name :')\n",
    "for a_clean_city in cleanest_cities :\n",
    "    if val == a_clean_city :\n",
    "        print('This is a cleanest City')\n",
    "        break;\n",
    "    else :\n",
    "        print('This is not cleanest city')"
   ]
  },
  {
   "cell_type": "code",
   "execution_count": 33,
   "metadata": {},
   "outputs": [
    {
     "name": "stdout",
     "output_type": "stream",
     "text": [
      "['BlueRay  Zzz', 'BlueRay  Burp', 'BlueRay  Dogbone', 'BlueRay  Droop', 'Upchuck  Zzz', 'Upchuck  Burp', 'Upchuck  Dogbone', 'Upchuck  Droop', 'Lojack  Zzz', 'Lojack  Burp', 'Lojack  Dogbone', 'Lojack  Droop', 'Gizmo  Zzz', 'Gizmo  Burp', 'Gizmo  Dogbone', 'Gizmo  Droop', 'Do-Rag  Zzz', 'Do-Rag  Burp', 'Do-Rag  Dogbone', 'Do-Rag  Droop']\n"
     ]
    }
   ],
   "source": [
    "#nested loop\n",
    "first_names = [\"BlueRay \", \"Upchuck \", \"Lojack \", \"Gizmo \", \"Do-Rag \"]\n",
    "last_names = [\"Zzz\", \"Burp\", \"Dogbone\", \"Droop\"]\n",
    "full_names = []\n",
    "for a_first_name in first_names:\n",
    "    for a_last_name in last_names:\n",
    "        full_names.append(a_first_name + \" \" + a_last_name)\n",
    "        #for full method visibility\n",
    "        #print(full_names)\n",
    "print(full_names)"
   ]
  },
  {
   "cell_type": "code",
   "execution_count": 35,
   "metadata": {},
   "outputs": [
    {
     "name": "stdout",
     "output_type": "stream",
     "text": [
      "10.0\n"
     ]
    }
   ],
   "source": [
    "a=10\n",
    "b=float(a)\n",
    "print(b)"
   ]
  },
  {
   "cell_type": "code",
   "execution_count": 37,
   "metadata": {},
   "outputs": [
    {
     "name": "stdout",
     "output_type": "stream",
     "text": [
      "1015\n"
     ]
    }
   ],
   "source": [
    "a=10\n",
    "b=str(a)\n",
    "c=str(15)\n",
    "d= b + c\n",
    "print(d)"
   ]
  },
  {
   "cell_type": "code",
   "execution_count": 45,
   "metadata": {},
   "outputs": [
    {
     "name": "stdout",
     "output_type": "stream",
     "text": [
      "SARFRAZ\n",
      "aslam\n",
      "Family\n"
     ]
    }
   ],
   "source": [
    "a = \"Sarfraz\"\n",
    "b = \"Aslam\"\n",
    "c = \"family\"\n",
    "print(a.upper())\n",
    "print(b.lower())\n",
    "print(c.title())"
   ]
  },
  {
   "cell_type": "code",
   "execution_count": 47,
   "metadata": {},
   "outputs": [
    {
     "name": "stdout",
     "output_type": "stream",
     "text": [
      "4803 Wellesley St.\n"
     ]
    }
   ],
   "source": [
    "#Dictionary\n",
    "customer = {\n",
    "    \"first name\": \"David\", \n",
    "    \"last name\": \"Elliott\", \n",
    "    \"address\": \"4803 Wellesley St.\"\n",
    "} \n",
    "print(customer[\"address\"])"
   ]
  },
  {
   "cell_type": "code",
   "execution_count": 1,
   "metadata": {},
   "outputs": [
    {
     "name": "stdout",
     "output_type": "stream",
     "text": [
      "Iceland\n"
     ]
    }
   ],
   "source": [
    "#ranking\n",
    "rankings = {5: \"Finland\", 2: \"Norway\", 3: \"Sweden\", 7: \"Iceland\"}\n",
    "print(rankings[7])"
   ]
  },
  {
   "cell_type": "code",
   "execution_count": 51,
   "metadata": {},
   "outputs": [
    {
     "name": "stdout",
     "output_type": "stream",
     "text": [
      "the lowest number\n",
      "12\n"
     ]
    }
   ],
   "source": [
    "things_to_remember = {0: \"the lowest number\", \"a dozen\": 12, \"snake eyes\": \"a pair of ones\", 13: \"a baker's dozen\"}\n",
    "print(things_to_remember[0])\n",
    "print(things_to_remember[\"a dozen\"])"
   ]
  },
  {
   "cell_type": "code",
   "execution_count": 52,
   "metadata": {},
   "outputs": [
    {
     "name": "stdout",
     "output_type": "stream",
     "text": [
      "karachi\n"
     ]
    }
   ],
   "source": [
    "#overwrite items in Dictionary\n",
    "customer = {\n",
    "    \"first name\": \"David\", \n",
    "    \"last name\": \"Elliott\", \n",
    "    \"address\": \"4803 Wellesley St.\"\n",
    "} \n",
    "customer[\"address\"] = 'karachi'\n",
    "print(customer[\"address\"])"
   ]
  },
  {
   "cell_type": "code",
   "execution_count": 5,
   "metadata": {},
   "outputs": [
    {
     "name": "stdout",
     "output_type": "stream",
     "text": [
      "{'first name': 'David', 'last name': 'Elliott', 'address': '4803 Wellesley St.', 'street no': ''}\n"
     ]
    }
   ],
   "source": [
    "#Adding items in Dictionary\n",
    "customer = {\n",
    "    \"first name\": \"David\", \n",
    "    \"last name\": \"Elliott\", \n",
    "    \"address\": \"4803 Wellesley St.\"\n",
    "} \n",
    "customer[\"street no\"] = ''\n",
    "print(customer)"
   ]
  },
  {
   "cell_type": "code",
   "execution_count": 54,
   "metadata": {},
   "outputs": [
    {
     "name": "stdout",
     "output_type": "stream",
     "text": [
      "{'first name': 'David', 'last name': 'Elliott', 'address': '4803 Wellesley St.', 'street no': '05'}\n"
     ]
    }
   ],
   "source": [
    "print(customer)"
   ]
  },
  {
   "cell_type": "code",
   "execution_count": 3,
   "metadata": {},
   "outputs": [
    {
     "name": "stdout",
     "output_type": "stream",
     "text": [
      "{'first name': 'David', 'last name': 'Elliott', 'address': '4803 Wellesley St.'}\n"
     ]
    }
   ],
   "source": [
    "del customer[\"street no\"]\n",
    "print(customer)"
   ]
  },
  {
   "cell_type": "code",
   "execution_count": 60,
   "metadata": {},
   "outputs": [
    {
     "name": "stdout",
     "output_type": "stream",
     "text": [
      "values : David\n",
      "values : Elliott\n",
      "values : 4803 Wellesley St.\n",
      "Keys : first name\n",
      "Keys : last name\n",
      "Keys : address\n"
     ]
    }
   ],
   "source": [
    "for each_value in customer.values():\n",
    "    print(\"values : \" + each_value)\n",
    "for each_Keys in customer.keys():\n",
    "    print(\"Keys : \" + each_Keys)\n"
   ]
  },
  {
   "cell_type": "code",
   "execution_count": 61,
   "metadata": {},
   "outputs": [
    {
     "name": "stdout",
     "output_type": "stream",
     "text": [
      "The customer's first name is David\n",
      "The customer's last name is Elliott\n",
      "The customer's address is 4803 Wellesley St.\n"
     ]
    }
   ],
   "source": [
    "for each_key, each_value in customer.items():\n",
    "    print(\"The customer's \" + each_key + \" is \" + each_value) "
   ]
  },
  {
   "cell_type": "code",
   "execution_count": 1,
   "metadata": {},
   "outputs": [
    {
     "data": {
      "text/plain": [
       "['1', '2', '3', '4']"
      ]
     },
     "execution_count": 1,
     "metadata": {},
     "output_type": "execute_result"
    }
   ],
   "source": [
    "#find the numeric number from the given list\n",
    "mylist = ['1','Orange','2','Apple','3','4']\n",
    "\n",
    "[s for s in mylist if s.isdigit()]"
   ]
  },
  {
   "cell_type": "code",
   "execution_count": 2,
   "metadata": {},
   "outputs": [
    {
     "name": "stdout",
     "output_type": "stream",
     "text": [
      "numeric value is : 1\n",
      "string value is : Orange\n",
      "numeric value is : 2\n",
      "numeric value is : 54\n",
      "string value is : Apple\n",
      "numeric value is : 3\n",
      "numeric value is : 4\n"
     ]
    }
   ],
   "source": [
    "#Question 2\n",
    "#find the numeric value from the given list\n",
    "mylist = [1,'Orange',2,54,'Apple',3,4]\n",
    "\n",
    "for a in mylist:\n",
    "    if isinstance(a,int):\n",
    "        print(\"numeric value is :\",a)\n",
    "    else:#optional\n",
    "        print(\"string value is :\",a)"
   ]
  },
  {
   "cell_type": "code",
   "execution_count": null,
   "metadata": {},
   "outputs": [],
   "source": []
  }
 ],
 "metadata": {
  "kernelspec": {
   "display_name": "Python 3",
   "language": "python",
   "name": "python3"
  },
  "language_info": {
   "codemirror_mode": {
    "name": "ipython",
    "version": 3
   },
   "file_extension": ".py",
   "mimetype": "text/x-python",
   "name": "python",
   "nbconvert_exporter": "python",
   "pygments_lexer": "ipython3",
   "version": "3.7.4"
  }
 },
 "nbformat": 4,
 "nbformat_minor": 2
}
