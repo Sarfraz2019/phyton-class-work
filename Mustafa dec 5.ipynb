{
 "cells": [
  {
   "cell_type": "code",
   "execution_count": 18,
   "metadata": {},
   "outputs": [
    {
     "name": "stdout",
     "output_type": "stream",
     "text": [
      "first caliph\n"
     ]
    }
   ],
   "source": [
    "Abubakar='first caliph'\n",
    "print(Abubakar)"
   ]
  },
  {
   "cell_type": "code",
   "execution_count": 5,
   "metadata": {},
   "outputs": [
    {
     "name": "stdout",
     "output_type": "stream",
     "text": [
      "smart\n"
     ]
    }
   ],
   "source": [
    "Sarfraz='smart'\n",
    "print('smart')"
   ]
  },
  {
   "cell_type": "code",
   "execution_count": 7,
   "metadata": {},
   "outputs": [
    {
     "name": "stdout",
     "output_type": "stream",
     "text": [
      "smart\n"
     ]
    }
   ],
   "source": [
    "print(Sarfraz)"
   ]
  },
  {
   "cell_type": "code",
   "execution_count": 14,
   "metadata": {},
   "outputs": [
    {
     "name": "stdout",
     "output_type": "stream",
     "text": [
      "i scored 1000 points\n"
     ]
    }
   ],
   "source": [
    "myscore=1000\n",
    "message='i scored %s points'\n",
    "print(message % myscore)"
   ]
  },
  {
   "cell_type": "code",
   "execution_count": 15,
   "metadata": {},
   "outputs": [
    {
     "name": "stdout",
     "output_type": "stream",
     "text": [
      "i scored 1000 points\n"
     ]
    }
   ],
   "source": [
    "message='i scored 1000 points'\n",
    "print(message)"
   ]
  },
  {
   "cell_type": "code",
   "execution_count": 22,
   "metadata": {},
   "outputs": [
    {
     "name": "stdout",
     "output_type": "stream",
     "text": [
      "             house no.346\n"
     ]
    }
   ],
   "source": [
    "address='             house no.346'\n",
    "print(address)"
   ]
  },
  {
   "cell_type": "code",
   "execution_count": 51,
   "metadata": {},
   "outputs": [
    {
     "name": "stdout",
     "output_type": "stream",
     "text": [
      "['chicken', 'vegetable', 'beef', 'fruit', 'sugar', 'oil']\n"
     ]
    }
   ],
   "source": [
    "imrun_list=['chicken','vegetable','beef','fruit','sugar','oil']\n",
    "print(imrun_list)\n"
   ]
  },
  {
   "cell_type": "code",
   "execution_count": 52,
   "metadata": {},
   "outputs": [
    {
     "name": "stdout",
     "output_type": "stream",
     "text": [
      "fruit\n"
     ]
    }
   ],
   "source": [
    "print(imrun_list[3])"
   ]
  },
  {
   "cell_type": "code",
   "execution_count": 58,
   "metadata": {},
   "outputs": [
    {
     "name": "stdout",
     "output_type": "stream",
     "text": [
      "['chicken', 'vegetable', 'beef', 'fruit', 'sugar', 'oil']\n"
     ]
    }
   ],
   "source": [
    "print(imrun_list[0:7])"
   ]
  },
  {
   "cell_type": "code",
   "execution_count": 59,
   "metadata": {},
   "outputs": [
    {
     "name": "stdout",
     "output_type": "stream",
     "text": [
      "[[0, 1, 3, 5, 7, 9], ['why', 'was', 'when', 'about']]\n"
     ]
    }
   ],
   "source": [
    "numbers=[0,1,3,5,7,9]\n",
    "string=['why','was','when','about']\n",
    "my_list=[numbers,string]\n",
    "print(my_list)"
   ]
  },
  {
   "cell_type": "code",
   "execution_count": 60,
   "metadata": {},
   "outputs": [
    {
     "name": "stdout",
     "output_type": "stream",
     "text": [
      "[[0, 1, 3, 5, 7, 9], ['why', 'was', 'when', 'about'], 'how was that']\n"
     ]
    }
   ],
   "source": [
    "my_list.append('how was that')\n",
    "print(my_list)"
   ]
  },
  {
   "cell_type": "code",
   "execution_count": 61,
   "metadata": {},
   "outputs": [
    {
     "name": "stdout",
     "output_type": "stream",
     "text": [
      "[[0, 1, 3, 5, 7, 9], ['why', 'was', 'when', 'about'], 'how was that']\n"
     ]
    }
   ],
   "source": [
    "print(my_list)"
   ]
  },
  {
   "cell_type": "code",
   "execution_count": 62,
   "metadata": {},
   "outputs": [
    {
     "name": "stdout",
     "output_type": "stream",
     "text": [
      "[[0, 1, 3, 5, 7, 9], ['why', 'was', 'when', 'about'], 'how was that', 'time is over']\n"
     ]
    }
   ],
   "source": [
    "my_list.append('time is over')\n",
    "print(my_list)"
   ]
  },
  {
   "cell_type": "code",
   "execution_count": 64,
   "metadata": {},
   "outputs": [
    {
     "name": "stdout",
     "output_type": "stream",
     "text": [
      "['chicken', 'vegetable', 'beef', 'sugar', 'oil']\n"
     ]
    }
   ],
   "source": [
    "del imrun_list[3]\n",
    "print(imrun_list)"
   ]
  },
  {
   "cell_type": "code",
   "execution_count": 65,
   "metadata": {},
   "outputs": [
    {
     "name": "stdout",
     "output_type": "stream",
     "text": [
      "[1, 5, 8, 45, 63, 'sugar', 'milk', 'meat', 'vegetables', 'yougurt']\n"
     ]
    }
   ],
   "source": [
    "list_1=[1,5,8,45,63]\n",
    "list_2=['sugar','milk','meat','vegetables','yougurt']\n",
    "print(list_1+list_2)"
   ]
  },
  {
   "cell_type": "code",
   "execution_count": 67,
   "metadata": {},
   "outputs": [
    {
     "name": "stdout",
     "output_type": "stream",
     "text": [
      "[1, 5, 8, 45, 63, 1, 5, 8, 45, 63, 1, 5, 8, 45, 63, 1, 5, 8, 45, 63, 1, 5, 8, 45, 63]\n"
     ]
    }
   ],
   "source": [
    "print(list_1*5)"
   ]
  },
  {
   "cell_type": "code",
   "execution_count": 68,
   "metadata": {},
   "outputs": [
    {
     "name": "stdout",
     "output_type": "stream",
     "text": [
      "['sugar', 'milk', 'meat', 'vegetables', 'yougurt', 'sugar', 'milk', 'meat', 'vegetables', 'yougurt', 'sugar', 'milk', 'meat', 'vegetables', 'yougurt', 'sugar', 'milk', 'meat', 'vegetables', 'yougurt', 'sugar', 'milk', 'meat', 'vegetables', 'yougurt']\n"
     ]
    }
   ],
   "source": [
    "print(list_2*5)"
   ]
  },
  {
   "cell_type": "code",
   "execution_count": 14,
   "metadata": {},
   "outputs": [
    {
     "name": "stdout",
     "output_type": "stream",
     "text": [
      "               ==========\n"
     ]
    }
   ],
   "source": [
    "p=' '*15\n",
    "print(\"%s==========\" %p)"
   ]
  },
  {
   "cell_type": "code",
   "execution_count": null,
   "metadata": {},
   "outputs": [],
   "source": []
  }
 ],
 "metadata": {
  "kernelspec": {
   "display_name": "Python 3",
   "language": "python",
   "name": "python3"
  },
  "language_info": {
   "codemirror_mode": {
    "name": "ipython",
    "version": 3
   },
   "file_extension": ".py",
   "mimetype": "text/x-python",
   "name": "python",
   "nbconvert_exporter": "python",
   "pygments_lexer": "ipython3",
   "version": "3.7.4"
  }
 },
 "nbformat": 4,
 "nbformat_minor": 2
}
