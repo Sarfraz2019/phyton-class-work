{
 "cells": [
  {
   "cell_type": "code",
   "execution_count": 11,
   "metadata": {},
   "outputs": [
    {
     "name": "stdout",
     "output_type": "stream",
     "text": [
      "Twinkle, twinkle, little star,\n",
      "      How I wonder what you are!\n",
      "            Up above the world so high,\n",
      "            Like a diamond in the sky.\n",
      "Twinkle, twinkle, little star,\n",
      "       How I wonder what you are\n"
     ]
    }
   ],
   "source": [
    "t=\"Twinkle, twinkle, little star,\\n      How I wonder what you are!\"\n",
    "h=\"\\n            Up above the world so high,\\n            Like a diamond in the sky.\"\n",
    "w=\"\\nTwinkle, twinkle, little star,\\n       How I wonder what you are\"\n",
    "print(t + h + w )"
   ]
  },
  {
   "cell_type": "code",
   "execution_count": 21,
   "metadata": {},
   "outputs": [
    {
     "name": "stdout",
     "output_type": "stream",
     "text": [
      "Today's date: 2019-10-31\n"
     ]
    }
   ],
   "source": [
    "from datetime import date\n",
    "today = date.today()\n",
    "\n",
    "print(\"Today's date:\", today )"
   ]
  },
  {
   "cell_type": "code",
   "execution_count": 24,
   "metadata": {},
   "outputs": [
    {
     "name": "stdout",
     "output_type": "stream",
     "text": [
      "d1 = 31/10/2019\n",
      "d2 = October ,31, 2019\n",
      "d3 = 10/31/19\n",
      "d4 = Oct-31-2019\n"
     ]
    }
   ],
   "source": [
    "from datetime import date\n",
    "today = date.today()\n",
    "# dd/mm/YY\n",
    "d1 = today.strftime(\"%d/%m/%Y\")\n",
    "print(\"d1 =\", d1)\n",
    "# Textual month, day and year\t\n",
    "d2 = today.strftime(\"%B ,%d, %Y\")\n",
    "print(\"d2 =\", d2)\n",
    "# mm/dd/y\n",
    "d3 = today.strftime(\"%m/%d/%y\")\n",
    "print(\"d3 =\", d3)\n",
    "# Month abbreviation, day and year\t\n",
    "d4 = today.strftime(\"%b-%d-%Y\")\n",
    "print(\"d4 =\", d4)\n"
   ]
  },
  {
   "cell_type": "code",
   "execution_count": 25,
   "metadata": {},
   "outputs": [
    {
     "name": "stdout",
     "output_type": "stream",
     "text": [
      "now = 2019-10-31 09:19:36.137586\n",
      "date and time = 31/10/2019 09:19:36\n"
     ]
    }
   ],
   "source": [
    "from datetime import datetime\n",
    "# datetime object containing current date and time\n",
    "now = datetime.now()\n",
    " \n",
    "print(\"now =\", now)\n",
    "# dd/mm/YY H:M:S\n",
    "dt_string = now.strftime(\"%d/%m/%Y %H:%M:%S\")\n",
    "print(\"date and time =\", dt_string)"
   ]
  },
  {
   "cell_type": "code",
   "execution_count": 29,
   "metadata": {},
   "outputs": [
    {
     "name": "stdout",
     "output_type": "stream",
     "text": [
      "phyton version is given below:\n",
      "3.7.4\n"
     ]
    }
   ],
   "source": [
    "import platform\n",
    "print(\"phyton version is given below:\")\n",
    "print(platform.python_version())"
   ]
  },
  {
   "cell_type": "code",
   "execution_count": 3,
   "metadata": {},
   "outputs": [
    {
     "name": "stdout",
     "output_type": "stream",
     "text": [
      "Please Enter radius below\n",
      "4\n",
      "Area of circle with radius 4 is =50.24\n"
     ]
    }
   ],
   "source": [
    "r = int(input(\"Please Enter radius below\\n\"))\n",
    "A =3.14*r**2\n",
    "print(\"Area of circle with radius \"+str(r) + \" is =\" + str(A))"
   ]
  },
  {
   "cell_type": "code",
   "execution_count": 36,
   "metadata": {},
   "outputs": [
    {
     "name": "stdout",
     "output_type": "stream",
     "text": [
      "please Enter first name\n",
      "Sarfraz\n",
      "please Enter last name\n",
      "Aslam\n",
      "zarfraS malsA\n"
     ]
    }
   ],
   "source": [
    "I1 = input(\"please Enter first name\\n\")\n",
    "I2 = input(\"please Enter last name\\n\")\n",
    "\n",
    "print(I1[::-1] + \" \" + I2[::-1])"
   ]
  },
  {
   "cell_type": "code",
   "execution_count": 1,
   "metadata": {},
   "outputs": [
    {
     "name": "stdout",
     "output_type": "stream",
     "text": [
      "Please Enter first number\n",
      "5\n",
      "Plase Enter second number\n",
      "9\n",
      "Result:14\n"
     ]
    }
   ],
   "source": [
    "I1 =int(input(\"Please Enter first number\\n\"))\n",
    "I2 =int(input(\"Plase Enter second number\\n\"))\n",
    "result = I1 +I2\n",
    "\n",
    "print(\"Result:\" + str(result))"
   ]
  },
  {
   "cell_type": "code",
   "execution_count": 5,
   "metadata": {},
   "outputs": [
    {
     "name": "stdout",
     "output_type": "stream",
     "text": [
      "Today's date: 2019-12-23\n",
      "yesterday date: 2019-12-22\n",
      "tommorow date: 2019-12-24\n"
     ]
    }
   ],
   "source": [
    "from datetime import date,timedelta\n",
    "today = date.today()\n",
    "yesterday = today - timedelta(days=1)\n",
    "tommorow = today + timedelta(days=1)\n",
    "\n",
    "print(\"Today's date:\", today )\n",
    "print(\"yesterday date:\", yesterday )\n",
    "print(\"tommorow date:\", tommorow )"
   ]
  },
  {
   "cell_type": "code",
   "execution_count": null,
   "metadata": {},
   "outputs": [],
   "source": []
  }
 ],
 "metadata": {
  "kernelspec": {
   "display_name": "Python 3",
   "language": "python",
   "name": "python3"
  },
  "language_info": {
   "codemirror_mode": {
    "name": "ipython",
    "version": 3
   },
   "file_extension": ".py",
   "mimetype": "text/x-python",
   "name": "python",
   "nbconvert_exporter": "python",
   "pygments_lexer": "ipython3",
   "version": "3.7.4"
  }
 },
 "nbformat": 4,
 "nbformat_minor": 2
}
