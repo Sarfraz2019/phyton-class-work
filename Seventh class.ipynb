{
 "cells": [
  {
   "cell_type": "code",
   "execution_count": 32,
   "metadata": {},
   "outputs": [
    {
     "name": "stdout",
     "output_type": "stream",
     "text": [
      "Sarfraz 1850086 21 \n",
      "\n",
      "Sarfraz\n",
      "1850086\n",
      "21\n",
      "NED university Modify University\n",
      "\n",
      "\n",
      "Aslam\n",
      "1856\n",
      "51\n",
      "PAF kiet university Modify University\n",
      "\n",
      "\n",
      "\n",
      "\n",
      "<__main__.Registration object at 0x00000241B79B5308>\n",
      "<__main__.Registration object at 0x00000241B79D1988>\n"
     ]
    }
   ],
   "source": [
    "#Object Oreanted programming\n",
    "\n",
    "#class\n",
    "class Registration():\n",
    "    #instantiation method\n",
    "    def __init__(self,name,rollno,age):\n",
    "        #Attributes and attributes names\n",
    "        self.name = name     #Sarfraz\n",
    "        self.rollno = rollno #10\n",
    "        self.age = age       #21\n",
    "        #default attribute\n",
    "        self.uniname = 'karachi university'\n",
    "    # self is a prefix \n",
    "    \n",
    "# Stu1 is a instance\n",
    "stu1 = Registration('Sarfraz',1850086,'21')\n",
    "#print(stu1)\n",
    "#print(stu1.name,stu1.rollno,stu1.age,stu1.uniname)\n",
    "print(stu1.name,stu1.rollno,stu1.age, \"\\n\")\n",
    "\n",
    "print(stu1.name)\n",
    "print(stu1.rollno)\n",
    "print(stu1.age)\n",
    "\n",
    "#Drectly modifyying attribute value\n",
    "\n",
    "stu1.uniname = 'NED university'\n",
    "print(stu1.uniname,'Modify University')\n",
    "print(\"\\n\")\n",
    "#new instance of second stu\n",
    "stu2 = Registration('Aslam',1856,'51')\n",
    "print(stu2.name)\n",
    "print(stu2.rollno)\n",
    "print(stu2.age)\n",
    "\n",
    "#Drectly modifyying attribute value\n",
    "\n",
    "stu2.uniname = 'PAF kiet university'\n",
    "print(stu2.uniname,'Modify University')\n",
    "print(\"\\n\")\n",
    "print(\"\\n\")\n",
    "\n",
    "print(stu1)\n",
    "print(stu2)"
   ]
  },
  {
   "cell_type": "code",
   "execution_count": 35,
   "metadata": {},
   "outputs": [
    {
     "name": "stdout",
     "output_type": "stream",
     "text": [
      "Sarfraz\n",
      "1850086\n",
      "21\n",
      "karachi university\n",
      "Allama Iqbal university \n",
      "Modified name\n"
     ]
    }
   ],
   "source": [
    "#Object Oreanted programming\n",
    "\n",
    "#class with method\n",
    "class Registration():\n",
    "    #instantiation method\n",
    "    def __init__(self,name,rollno,age):\n",
    "        #Attributes and attributes names\n",
    "        self.name = name     #Sarfraz\n",
    "        self.rollno = rollno #10\n",
    "        self.age = age       #21\n",
    "        #default attribute\n",
    "        self.uniname = 'karachi university'\n",
    "        \n",
    "        \n",
    "    def updateuni(self,newname):\n",
    "        self.uniname = newname\n",
    "            \n",
    "    # self is a prefix \n",
    "    \n",
    "# Stu1 is a instance\n",
    "stu1 = Registration('Sarfraz',1850086,'21')\n",
    "print(stu1.name)\n",
    "print(stu1.rollno)\n",
    "print(stu1.age)\n",
    "print(stu1.uniname)\n",
    "stu1.updateuni('Allama Iqbal university')\n",
    "print(stu1.uniname,'\\nModified name')"
   ]
  },
  {
   "cell_type": "code",
   "execution_count": 37,
   "metadata": {},
   "outputs": [
    {
     "name": "stdout",
     "output_type": "stream",
     "text": [
      "Sarfraz\n",
      "1850086\n",
      "21 Old age\n",
      "karachi university\n",
      "Allama Iqbal university \n",
      "Modified name\n",
      "24 current age\n"
     ]
    }
   ],
   "source": [
    "#Object Oreanted programming\n",
    "\n",
    "#class with method\n",
    "class Registration():\n",
    "    #instantiation method\n",
    "    def __init__(self,name,rollno,age):\n",
    "        #Attributes and attributes names\n",
    "        self.name = name     #Sarfraz\n",
    "        self.rollno = rollno #10\n",
    "        self.age = age       #21\n",
    "        #default attribute\n",
    "        self.uniname = 'karachi university'\n",
    "        \n",
    "        \n",
    "    def updateuni(self,newname):\n",
    "        self.uniname = newname\n",
    "        \n",
    "    def updateage(self,newage):\n",
    "        self.age += newage\n",
    "            \n",
    "    # self is a prefix \n",
    "    \n",
    "# Stu1 is a instance\n",
    "stu1 = Registration('Sarfraz',1850086,21)\n",
    "print(stu1.name)\n",
    "print(stu1.rollno)\n",
    "print(stu1.age,'Old age')\n",
    "print(stu1.uniname)\n",
    "stu1.updateuni('Allama Iqbal university')\n",
    "print(stu1.uniname,'\\nModified name')\n",
    "stu1.updateage(3)\n",
    "print(stu1.age,'current age')"
   ]
  },
  {
   "cell_type": "code",
   "execution_count": null,
   "metadata": {},
   "outputs": [],
   "source": []
  }
 ],
 "metadata": {
  "kernelspec": {
   "display_name": "Python 3",
   "language": "python",
   "name": "python3"
  },
  "language_info": {
   "codemirror_mode": {
    "name": "ipython",
    "version": 3
   },
   "file_extension": ".py",
   "mimetype": "text/x-python",
   "name": "python",
   "nbconvert_exporter": "python",
   "pygments_lexer": "ipython3",
   "version": "3.7.4"
  }
 },
 "nbformat": 4,
 "nbformat_minor": 2
}
