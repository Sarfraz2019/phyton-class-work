{
 "cells": [
  {
   "cell_type": "code",
   "execution_count": 1,
   "metadata": {},
   "outputs": [
    {
     "name": "stdout",
     "output_type": "stream",
     "text": [
      "6\n"
     ]
    }
   ],
   "source": [
    "def addnum():\n",
    "    fno = 3\n",
    "    sno = 3\n",
    "    res = fno + sno\n",
    "    print(res)\n",
    "addnum()"
   ]
  },
  {
   "cell_type": "code",
   "execution_count": 6,
   "metadata": {},
   "outputs": [
    {
     "name": "stdout",
     "output_type": "stream",
     "text": [
      "30\n"
     ]
    }
   ],
   "source": [
    "def addnum(fno,sno):\n",
    "    res = fno + sno\n",
    "    print(res)\n",
    "    \n",
    "addnum(10,20)\n",
    "\n",
    "    "
   ]
  },
  {
   "cell_type": "code",
   "execution_count": 7,
   "metadata": {},
   "outputs": [
    {
     "name": "stdout",
     "output_type": "stream",
     "text": [
      "44\n"
     ]
    }
   ],
   "source": [
    "def addnum(fno,sno):\n",
    "    res = fno + sno\n",
    "    print(res)\n",
    "\n",
    "fno=12\n",
    "sno=32\n",
    "addnum(fno,sno)\n",
    "\n",
    "    "
   ]
  },
  {
   "cell_type": "code",
   "execution_count": 13,
   "metadata": {},
   "outputs": [
    {
     "name": "stdout",
     "output_type": "stream",
     "text": [
      "32\n"
     ]
    }
   ],
   "source": [
    "def addnum(fno,sno):\n",
    "    res = fno + sno\n",
    "    print(res)\n",
    "    \n",
    "addnum(fno=10,sno=22)\n",
    "\n",
    "    "
   ]
  },
  {
   "cell_type": "code",
   "execution_count": 3,
   "metadata": {},
   "outputs": [
    {
     "name": "stdout",
     "output_type": "stream",
     "text": [
      "-4\n"
     ]
    }
   ],
   "source": [
    "#Initialize variavble globally\n",
    "fno=8\n",
    "sno=4\n",
    "\n",
    "def addnum(sno,fno):\n",
    "    res = fno - sno\n",
    "    print(res)\n",
    "\n",
    "\n",
    "addnum(fno,sno)\n",
    "\n",
    "    "
   ]
  },
  {
   "cell_type": "code",
   "execution_count": 6,
   "metadata": {},
   "outputs": [
    {
     "name": "stdout",
     "output_type": "stream",
     "text": [
      "30\n"
     ]
    }
   ],
   "source": [
    "firstnum = 10\n",
    "\n",
    "def defarg(ten , twenty=20):\n",
    "    result= ten+twenty\n",
    "    print(result)\n",
    "    \n",
    "defarg(firstnum)"
   ]
  },
  {
   "cell_type": "code",
   "execution_count": 11,
   "metadata": {},
   "outputs": [
    {
     "name": "stdout",
     "output_type": "stream",
     "text": [
      "SMIT Phyton programmin 3 monthns\n"
     ]
    }
   ],
   "source": [
    "#non-default argument follows default argument\n",
    "#lang=\"Phyton programmin\" & dur=\"3 monthns\" are default argument\n",
    "inst = \"SMIT\"\n",
    "\n",
    "def coursedetail(ins,dur,lang=\"Phyton programmin\"): \n",
    "    print(ins + \" \" + lang + \" \" + dur)\n",
    "    \n",
    "coursedetail(inst,dur=\"3 monthns\")"
   ]
  },
  {
   "cell_type": "code",
   "execution_count": 22,
   "metadata": {},
   "outputs": [
    {
     "name": "stdout",
     "output_type": "stream",
     "text": [
      "My name is Sarfraz Aslam\n",
      "sarfrazaslam2015@gmail.com\n",
      "123456789\n",
      "karachi\n"
     ]
    }
   ],
   "source": [
    "#extra argument\n",
    "def func(name,fname,*param):\n",
    "    print(\"My name is \" + name + \" \" + fname  )\n",
    "    for a in param:\n",
    "        print(a)\n",
    "\n",
    "func(\"Sarfraz\",\"Aslam\",\"sarfrazaslam2015@gmail.com\",\"123456789\",\"karachi\")"
   ]
  },
  {
   "cell_type": "code",
   "execution_count": 3,
   "metadata": {},
   "outputs": [
    {
     "name": "stdout",
     "output_type": "stream",
     "text": [
      "My name is Sarfraz Aslam\n",
      "email:sarfrazaslam2015@gmail.com\n",
      "phone:123456789\n",
      "city:karachi\n"
     ]
    }
   ],
   "source": [
    "#extra argument\n",
    "#arbitary arguments\n",
    "def func(name,fname,**parameter):\n",
    "    print(\"My name is \" + name + \" \" + fname  )\n",
    "    for key,value in parameter.items():\n",
    "        print(key + \":\" + value)\n",
    "\n",
    "func(\"Sarfraz\",\"Aslam\",email=\"sarfrazaslam2015@gmail.com\",phone=\"123456789\",city=\"karachi\")"
   ]
  },
  {
   "cell_type": "code",
   "execution_count": 4,
   "metadata": {},
   "outputs": [
    {
     "name": "stdout",
     "output_type": "stream",
     "text": [
      "My name is Sarfraz Aslam\n",
      "email:sarfrazaslam2015@gmail.com\n",
      "phone:123456789\n",
      "city:karachi\n"
     ]
    }
   ],
   "source": [
    "#extra argument\n",
    "#arbitary arguments\n",
    "def func(name,fname,**parameter):\n",
    "    print(\"My name is \" + name + \" \" + fname  )\n",
    "    for key,value in parameter.items():\n",
    "        print(key + \":\" + value)\n",
    "\n",
    "func(name=\"Sarfraz\",fname=\"Aslam\",email=\"sarfrazaslam2015@gmail.com\",phone=\"123456789\",city=\"karachi\")"
   ]
  },
  {
   "cell_type": "code",
   "execution_count": 10,
   "metadata": {},
   "outputs": [
    {
     "name": "stdout",
     "output_type": "stream",
     "text": [
      "6\n"
     ]
    }
   ],
   "source": [
    "#return in func\n",
    "def rfunc():\n",
    "    num1=1\n",
    "    num2=5\n",
    "    result = num1 + num2\n",
    "    return result\n",
    "    \n",
    "    \n",
    "return_var = rfunc()\n",
    "print(return_var)"
   ]
  },
  {
   "cell_type": "code",
   "execution_count": 15,
   "metadata": {},
   "outputs": [
    {
     "name": "stdout",
     "output_type": "stream",
     "text": [
      "6\n",
      "8\n",
      "14\n"
     ]
    }
   ],
   "source": [
    "#return in func\n",
    "#func mai se koi bhi single chiz return krwa skte han...\n",
    "def rfunc():\n",
    "    num1=1\n",
    "    num2=5\n",
    "    result = num1 + num2\n",
    "    return result\n",
    "    \n",
    "    \n",
    "return_var1= rfunc()\n",
    "print(return_var1)\n",
    "\n",
    "def r2func():\n",
    "    num1=1\n",
    "    num2=7\n",
    "    result2 = num1 + num2\n",
    "    return result2\n",
    "\n",
    "return_var2= r2func()\n",
    "print(return_var2)\n",
    "\n",
    "final_result = return_var1 + return_var2\n",
    "print(final_result)"
   ]
  },
  {
   "cell_type": "code",
   "execution_count": 10,
   "metadata": {},
   "outputs": [
    {
     "name": "stdout",
     "output_type": "stream",
     "text": [
      "what is your name ?dfraz\n",
      "dfraz is enrolled in SMIT phyton programming  03 month\n"
     ]
    }
   ],
   "source": [
    "#call function in the another function\n",
    "def courseinfo():\n",
    "    inst = \"SMIT\"\n",
    "    lang = \"phyton programming\"\n",
    "    duration = \"03 month\"\n",
    "    \n",
    "    return(inst + \" \" + lang + \"  \" +duration)\n",
    "    \n",
    "\n",
    "def userinfo():\n",
    "    name =input(\"what is your name ?\")\n",
    "    result = name + \" is enrolled in \" + courseinfo()\n",
    "    return(result)\n",
    "    \n",
    "    \n",
    "whole_info = userinfo()\n",
    "\n",
    "print(whole_info)\n"
   ]
  },
  {
   "cell_type": "code",
   "execution_count": 11,
   "metadata": {},
   "outputs": [
    {
     "name": "stdout",
     "output_type": "stream",
     "text": [
      "sarfraz Aslam\n"
     ]
    }
   ],
   "source": [
    "\n",
    "def addnum():\n",
    "    name='sarfraz'\n",
    "    return name\n",
    "\n",
    "firstname = addnum() \n",
    "\n",
    "fullname = firstname + \" \" + \"Aslam\"\n",
    "\n",
    "\n",
    "print(fullname)\n"
   ]
  },
  {
   "cell_type": "code",
   "execution_count": 17,
   "metadata": {},
   "outputs": [
    {
     "name": "stdout",
     "output_type": "stream",
     "text": [
      "p\n",
      "ph\n",
      "phy\n",
      "phyt\n",
      "phyto\n",
      "phyton\n",
      "phyto\n",
      "phyt\n",
      "phy\n",
      "ph\n",
      "p\n",
      "\n"
     ]
    }
   ],
   "source": [
    "#for loop\n",
    "my_string = \"phyton\"\n",
    "x=0\n",
    "\n",
    "for i in my_string:\n",
    "    x = x + 1\n",
    "    print(my_string[0:x])\n",
    "for i in my_string:\n",
    "    x = x - 1 \n",
    "    print(my_string[0:x])"
   ]
  },
  {
   "cell_type": "code",
   "execution_count": 1,
   "metadata": {},
   "outputs": [
    {
     "name": "stdout",
     "output_type": "stream",
     "text": [
      "Enter correct alphabet\n",
      "h\n",
      "Enter correct alphabet\n",
      "a\n",
      "\n",
      " exist\n"
     ]
    }
   ],
   "source": [
    "#while loops\n",
    "#alphabet=\"a\"\n",
    "alphabet=input(\"Enter correct alphabet\\n\")\n",
    "while alphabet !=\"a\":\n",
    "    alphabet=input(\"Enter correct alphabet\\n\")\n",
    "    print(\"\\n exist\")"
   ]
  },
  {
   "cell_type": "code",
   "execution_count": null,
   "metadata": {},
   "outputs": [],
   "source": []
  }
 ],
 "metadata": {
  "kernelspec": {
   "display_name": "Python 3",
   "language": "python",
   "name": "python3"
  },
  "language_info": {
   "codemirror_mode": {
    "name": "ipython",
    "version": 3
   },
   "file_extension": ".py",
   "mimetype": "text/x-python",
   "name": "python",
   "nbconvert_exporter": "python",
   "pygments_lexer": "ipython3",
   "version": "3.7.4"
  }
 },
 "nbformat": 4,
 "nbformat_minor": 2
}
