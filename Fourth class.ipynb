{
 "cells": [
  {
   "cell_type": "code",
   "execution_count": 4,
   "metadata": {},
   "outputs": [
    {
     "name": "stdout",
     "output_type": "stream",
     "text": [
      "what is your country name1\n"
     ]
    }
   ],
   "source": [
    "#multiple dictionaries in list\n",
    "question = [\n",
    "    {\n",
    "        \"S_no\" : 1,\n",
    "        \"question\": \"what is your country name1\",\n",
    "        \"options\" : [\"pakistan\",\"USA\",\"UAE\",\"Africa\"]\n",
    "    },\n",
    "    {\n",
    "        \"S_no\" : 2,\n",
    "        \"question\": \"what is your country name2\",\n",
    "        \"options\" : [\"pakistan\",\"USA\",\"UAE\",\"Africa\"]\n",
    "    },\n",
    "    {\n",
    "        \"S_no\" : 3,\n",
    "        \"question\": \"what is your country name3\",\n",
    "        \"options\" : [\"pakistan\",\"USA\",\"UAE\",\"Africa\"]\n",
    "    }\n",
    "]\n",
    "print(question[0][\"question\"])"
   ]
  },
  {
   "cell_type": "code",
   "execution_count": 7,
   "metadata": {},
   "outputs": [
    {
     "name": "stdout",
     "output_type": "stream",
     "text": [
      "{'S_no': 5, 'question': 'what is your country name5', 'options': ['pakistan', 'USA', 'UAE', 'Africa'], 'answer': 'pakistan'}\n",
      "USA\n"
     ]
    }
   ],
   "source": [
    "#how to oppend a dictionaries in a list\n",
    "#also we have list in dictionaries\n",
    "question = [\n",
    "    {\n",
    "        \"S_no\" : 1,\n",
    "        \"question\": \"what is your country name1\",\n",
    "        \"options\" : [\"pakistan\",\"USA\",\"UAE\",\"Africa\"],\n",
    "        \"answer\" : \"pakistan\"\n",
    "    },\n",
    "    {\n",
    "        \"S_no\" : 2,\n",
    "        \"question\": \"what is your country name2\",\n",
    "        \"options\" : [\"pakistan\",\"USA\",\"UAE\",\"Africa\"],\n",
    "        \"answer\" : \"pakistan\"\n",
    "    },\n",
    "    {\n",
    "        \"S_no\" : 3,\n",
    "        \"question\": \"what is your country name3\",\n",
    "        \"options\" : [\"pakistan\",\"USA\",\"UAE\",\"Africa\"],\n",
    "        \"answer\" : \"pakistan\"\n",
    "    }\n",
    "]\n",
    "\n",
    "new_question ={\n",
    "    \"S_no\" : 4,\n",
    "        \"question\": \"what is your country name4\",\n",
    "        \"options\" : [\"pakistan\",\"USA\",\"UAE\",\"Africa\"],\n",
    "        \"answer\" : \"pakistan\"\n",
    "}\n",
    "\n",
    "old_question ={\n",
    "    \"S_no\" : 5,\n",
    "        \"question\": \"what is your country name5\",\n",
    "        \"options\" : [\"pakistan\",\"USA\",\"UAE\",\"Africa\"],\n",
    "        \"answer\" : \"pakistan\"\n",
    "}\n",
    "\n",
    "question.append(new_question)\n",
    "question.insert(2,old_question)\n",
    "print(question[2])\n",
    "\n",
    "\n",
    "#Access list in dictionaries\n",
    "print(question[0][\"options\"][1])"
   ]
  },
  {
   "cell_type": "code",
   "execution_count": 9,
   "metadata": {},
   "outputs": [
    {
     "name": "stdout",
     "output_type": "stream",
     "text": [
      "{0: {'first name': 'John', 'last name': 'Ogden', 'address': '301 Arbor Rd.'}, 1: {'first name': 'Ann', 'last name': 'Sattermyer', 'address': 'PO Box 1145'}}\n",
      "{'first name': 'John', 'last name': 'Ogden', 'address': '301 Arbor Rd.'}\n"
     ]
    }
   ],
   "source": [
    "#creating a dictionary in dictionary\n",
    "\n",
    "customers = {\n",
    "     0: { \n",
    "          \"first name\":\"John\", \n",
    "         \"last name\": \"Ogden\", \n",
    "          \"address\": \"301 Arbor Rd.\", \n",
    "          }, \n",
    "     1: { \n",
    "         \"first name\":\"Ann\", \n",
    "         \"last name\": \"Sattermyer\", \n",
    "         \"address\": \"PO Box 1145\", \n",
    "         },\n",
    "    \"key\": { \n",
    "         \"first name\":\"Ate\", \n",
    "         \"last name\": \"Sattermyer\", \n",
    "         \"address\": \"PO Box 11\", \n",
    "         },\n",
    "    }\n",
    "\n",
    "print(customers)\n",
    "print(customers[0])\n",
    "print(customers[\"key\"])"
   ]
  },
  {
   "cell_type": "code",
   "execution_count": 1,
   "metadata": {},
   "outputs": [
    {
     "name": "stdout",
     "output_type": "stream",
     "text": [
      "{0: {'first name': 'John', 'last name': 'Ogden', 'address': '301 Arbor Rd.'}, 1: {'first name': 'Ann', 'last name': 'Sattermyer', 'address': 'PO Box 1145'}}\n",
      "{'first name': 'John', 'last name': 'Ogden', 'address': '301 Arbor Rd.'}\n"
     ]
    }
   ],
   "source": [
    "#creating a dictionary in dictionary\n",
    "\n",
    "customers = {\n",
    "     0: { \n",
    "          \"first name\":\"John\", \n",
    "         \"last name\": \"Ogden\", \n",
    "          \"address\": \"301 Arbor Rd.\", \n",
    "          }, \n",
    "     1: { \n",
    "         \"first name\":\"Ann\", \n",
    "         \"last name\": \"Sattermyer\", \n",
    "         \"address\": \"PO Box 1145\", \n",
    "         },\n",
    "    }\n",
    "\n",
    "print(customers)\n",
    "print(customers[0])"
   ]
  },
  {
   "cell_type": "code",
   "execution_count": 2,
   "metadata": {},
   "outputs": [
    {
     "name": "stdout",
     "output_type": "stream",
     "text": [
      "\n",
      "1: what is your country name?\n",
      " please write your correct answer in input field\n",
      "pakistan\n",
      "USA\n",
      "UAE\n",
      "Africa\n",
      "\n",
      "pakistan\n",
      "Corrrect!\n",
      "\n",
      "2: what is your city name?\n",
      " please write your correct answer in input field\n",
      "Hyderabad\n",
      "Islamabad\n",
      "Karachi\n",
      "Tharparkar\n",
      "\n",
      "karachi\n",
      "Corrrect!\n",
      "\n",
      "3: what is your capital city?\n",
      " please write your correct answer in input field\n",
      "Hyderabad\n",
      "Islamabad\n",
      "Karachi\n",
      "Tharparkar\n",
      "\n",
      "Islamabad\n",
      "Corrrect!\n",
      "Your score is :3\n"
     ]
    }
   ],
   "source": [
    "#Quize application using list in dic\n",
    "question = [\n",
    "    {\n",
    "        \"S_no\" : 1,\n",
    "        \"question\": \"what is your country name?\",\n",
    "        \"options\" : [\"pakistan\",\"USA\",\"UAE\",\"Africa\"],\n",
    "        \"answer\"  : \"pakistan\"\n",
    "    },\n",
    "    {\n",
    "        \"S_no\" : 2,\n",
    "        \"question\": \"what is your city name?\",\n",
    "        \"options\" : [\"Hyderabad\",\"Islamabad\",\"Karachi\",\"Tharparkar\"],\n",
    "        \"answer\"  : \"karachi\"\n",
    "\n",
    "    },\n",
    "    {\n",
    "        \"S_no\" : 3,\n",
    "        \"question\": \"what is your capital city?\",\n",
    "        \"options\" : [\"Hyderabad\",\"Islamabad\",\"Karachi\",\"Tharparkar\"],\n",
    "        \"answer\"  : \"Islamabad\"\n",
    "    }\n",
    "]\n",
    "\n",
    "score = 0\n",
    "for ques in question:\n",
    "    data = \"\\n\" + str(ques[\"S_no\"]) + \": \" + ques[\"question\"] + \"\\n please write your correct answer in input field\\n\" + ques[\"options\"][0] + \"\\n\" + ques[\"options\"][1] + \"\\n\" + ques[\"options\"][2] + \"\\n\" + ques[\"options\"][3] + \"\\n\\n\"                                   \n",
    "    answer = input(data)\n",
    "    if answer == ques[\"answer\"]:\n",
    "        print(\"Corrrect!\")\n",
    "        score +=1\n",
    "    else:\n",
    "        print(\"Incorrect!\")\n",
    "print(\"Your score is :\" +str(score))"
   ]
  },
  {
   "cell_type": "code",
   "execution_count": 6,
   "metadata": {},
   "outputs": [
    {
     "name": "stdout",
     "output_type": "stream",
     "text": [
      "15\n",
      "15\n",
      "15\n"
     ]
    }
   ],
   "source": [
    "#function\n",
    "# function = method . but has a slightly different\n",
    "def addition():\n",
    "    num1 = 5\n",
    "    num2 = 10\n",
    "    total = num1 + num2\n",
    "    print(total)\n",
    "\n",
    "addition()\n",
    "addition()\n",
    "addition()"
   ]
  },
  {
   "cell_type": "code",
   "execution_count": 7,
   "metadata": {},
   "outputs": [
    {
     "name": "stdout",
     "output_type": "stream",
     "text": [
      "15\n"
     ]
    }
   ],
   "source": [
    "addition()"
   ]
  },
  {
   "cell_type": "code",
   "execution_count": 8,
   "metadata": {},
   "outputs": [
    {
     "name": "stdout",
     "output_type": "stream",
     "text": [
      "25\n"
     ]
    }
   ],
   "source": [
    "#function Passing them information\n",
    "\n",
    "def addition(a,b):  #parameter\n",
    "    total = a + b\n",
    "    print(total)\n",
    "\n",
    "addition(10,15)  # argument = positional argument\n",
    "\n",
    "\n"
   ]
  },
  {
   "cell_type": "code",
   "execution_count": 9,
   "metadata": {},
   "outputs": [
    {
     "name": "stdout",
     "output_type": "stream",
     "text": [
      "30\n"
     ]
    }
   ],
   "source": [
    "#function Passing them information\n",
    "\n",
    "def addition(a,b):  #parameter\n",
    "    total = a + b\n",
    "    print(total)\n",
    "a = 10\n",
    "b = 20\n",
    "addition(a,b)  # argument = positional argument\n",
    "\n",
    "\n"
   ]
  },
  {
   "cell_type": "code",
   "execution_count": 12,
   "metadata": {},
   "outputs": [
    {
     "name": "stdout",
     "output_type": "stream",
     "text": [
      "Sarfraz Aslam\n"
     ]
    }
   ],
   "source": [
    "#function passing argument i a different way\n",
    "\n",
    "def full_name(last_name,first_name): # keyword argument k wje se parameter ulta bhi likhnge tw text ya values pr koi frk nhi prega.\n",
    "    complete_name = first_name + \" \" + last_name\n",
    "    print(complete_name)\n",
    "\n",
    "full_name(first_name = \"Sarfraz\",last_name = \"Aslam\") # argument = keyword argument"
   ]
  },
  {
   "cell_type": "code",
   "execution_count": 13,
   "metadata": {},
   "outputs": [
    {
     "name": "stdout",
     "output_type": "stream",
     "text": [
      "Sarfraz Aslam\n"
     ]
    }
   ],
   "source": [
    "#function passing argument i a different way\n",
    "\n",
    "def full_name(last_name = \"Aslam\",first_name = \"Sarfraz\"): # keyword parameter k wje se parameter ulta bhi likhnge tw text ya values pr koi frk nhi prega.\n",
    "    complete_name = first_name + \" \" + last_name\n",
    "    print(complete_name)\n",
    "\n",
    "full_name()"
   ]
  },
  {
   "cell_type": "code",
   "execution_count": null,
   "metadata": {},
   "outputs": [],
   "source": []
  }
 ],
 "metadata": {
  "kernelspec": {
   "display_name": "Python 3",
   "language": "python",
   "name": "python3"
  },
  "language_info": {
   "codemirror_mode": {
    "name": "ipython",
    "version": 3
   },
   "file_extension": ".py",
   "mimetype": "text/x-python",
   "name": "python",
   "nbconvert_exporter": "python",
   "pygments_lexer": "ipython3",
   "version": "3.7.4"
  }
 },
 "nbformat": 4,
 "nbformat_minor": 2
}
